{
 "cells": [
  {
   "cell_type": "code",
   "execution_count": 1,
   "metadata": {},
   "outputs": [],
   "source": [
    "\n",
    "from scipy import *\n",
    "from numpy import *\n",
    "from scipy.misc import derivative\n",
    "from scipy.special import *\n",
    "from tokenize import TokenError\n",
    "import bqplot.pyplot as plt\n",
    "import ipywidgets as widgets\n",
    "from IPython.display import display, Latex, HTML, Math\n",
    "import sympy as sym\n",
    "from sympy.parsing.sympy_parser import parse_expr"
   ]
  },
  {
   "cell_type": "code",
   "execution_count": 2,
   "metadata": {},
   "outputs": [],
   "source": [
    "x = sym.Symbol('x')"
   ]
  },
  {
   "cell_type": "markdown",
   "metadata": {},
   "source": [
    "## Derivative Explorer\n",
    "Use the entry widgets below the plots to examine the connection between the slope of a given function and the value of its derivative.\n",
    "\n",
    "The function can be changed by typing a new function into the 'Enter function' box hitting the Return/Enter key.  The function must be described in terms of the variable 'x'. You must use an '\\*' to indicate multiplication.  Powers use '\\*\\*'.\n",
    "\n",
    "The domain can be changed similarly.\n",
    "\n",
    "The position at which the derivative is calculated can be moved back and forth using the labelled slider widget.\n",
    "\n",
    "### Try:\n",
    "(1) Enter the function 'sin(3\\*x) \\* exp(-x/2)'\n",
    "\n",
    "(2) Try tanh(x)\n",
    "\n",
    "#### Bonus (that won't be shared with students)\n",
    "This application knows all of the special functions from scipy.special:\n",
    "\n",
    "Try:  'eval_hermite(3,x)' to get the third Hermite polynomial.  The title will look funky, but the plots are correct.\n",
    "\n",
    "Try:  Set the domain to 0.1 to 3.0, use function 'y0(x)' to get Bessel function of the second kind of order 0.\n",
    "\n",
    "So see other functions, look at [Scipy Special Functions](https://docs.scipy.org/doc/scipy/reference/special.html).  To work, the function can only be a function of one real variable (you can pass integer values, as in the Hermite polynomial example), and must return one real value (not a tuple of values, as for example, with the Airy function).\n",
    "\n",
    "#### Future:\n",
    "I'm hoping to build a similar project to demonstrate numerical integration for students, showing explicitly the little shapes used (*e.g.* rectangles, trapezoids, *etc.*) and comparing estimates with accurate values for arbitrary functions.\n",
    "\n",
    "I've thought about adding a third plot pane to this page showing the second derivative, perhaps superimposing an oscullating parabola to show the curvature on the main plot....  I still might...  maybe make it optional with a check box..."
   ]
  },
  {
   "cell_type": "code",
   "execution_count": 3,
   "metadata": {
    "scrolled": false
   },
   "outputs": [
    {
     "data": {
      "application/vnd.jupyter.widget-view+json": {
       "model_id": "a7bb7fcbef2b4a0ab0611a681c7a8065",
       "version_major": 2,
       "version_minor": 0
      },
      "text/plain": [
       "VBox(children=(HTMLMath(value=\"<h2><font color='blue'>$f(x) = x^{2} + 1$</font></h2>\", layout=Layout(align_ite…"
      ]
     },
     "metadata": {},
     "output_type": "display_data"
    }
   ],
   "source": [
    "def set_function(strFunc):\n",
    "    try:\n",
    "        local_func = lambda x: eval(strFunc)\n",
    "        def local_deriv(x):\n",
    "            return around(derivative(local_func, x, dx=1e-6), 4)\n",
    "        f = parse_expr(strFunc)\n",
    "    except TokenError:\n",
    "        print(\"malformed function\")\n",
    "        return None\n",
    "    return local_func, local_deriv, f\n",
    "\n",
    "strFunc = \"1+x**2\"\n",
    "f, df, fstr = set_function(strFunc)\n",
    "sym_func = sym.latex(fstr)\n",
    "\n",
    "\n",
    "label_layout = widgets.Layout(display='flex', justify_content='center', width = \"70%\", \n",
    "                              align_items = 'center', border = 'none')\n",
    "fig_layout = widgets.Layout(height = \"350px\", width = \"350px\")\n",
    "fig_margin_dict = dict(top=30, bottom = 30, left = 20, right = 10)\n",
    "\n",
    "label = widgets.Label(r\"$f(x) =  {}$\".format(sym.latex(1+x**2)), layout = label_layout)\n",
    "title_format = \"<h2><font color='blue'>$f(x) = {}$</font></h2>\"\n",
    "title_label = widgets.HTMLMath(title_format.format(sym_func),\n",
    "                              layout = label_layout)\n",
    "\n",
    "# create initial plots\n",
    "low = -3\n",
    "high = 3\n",
    "xpoint = 0\n",
    "nPts = 200  # number of points in domain\n",
    "xx = linspace(low, high, nPts)\n",
    "yy = f(xx)\n",
    "\n",
    "# Main figure\n",
    "main_fig = plt.figure(title=\"function\", layout = fig_layout, fig_margin = fig_margin_dict)\n",
    "function_curve = plt.plot(xx, yy)\n",
    "ylimits = plt.ylim(min(yy), max(yy))\n",
    "ypoint = f(xpoint)\n",
    "point = plt.plot([xpoint], [ypoint], marker='circle', colors = ['red'])\n",
    "\n",
    "# add derivative line to main figure:\n",
    "m = df(xpoint)\n",
    "b = ypoint - xpoint * m\n",
    "deriv_line = lambda x: m*x + b\n",
    "df_line = plt.plot(xx, deriv_line(xx), colors=['green'])\n",
    "\n",
    "# create point slider\n",
    "point_slider = widgets.FloatSlider(value = 0.5, min = low, max = high, step = 0.01, \n",
    "                                  readout = True, readout_format = '.2f', continuous_update = True)\n",
    "point_label = widgets.Label(\"Position of red dot: \")\n",
    "point_box = widgets.HBox([point_label, point_slider])\n",
    "\n",
    "# Create derivative plot\n",
    "deriv_fig = plt.figure(title=\"derivative\", layout = fig_layout, fig_margin=fig_margin_dict)\n",
    "deriv_curve = plt.plot(xx, df(xx), fig = deriv_fig)\n",
    "dy_point = df(xpoint)\n",
    "deriv_point = plt.plot([xpoint], [dy_point], colors = ['red'], marker = 'circle')\n",
    "deriv_value = plt.plot(xx, [dy_point]*nPts, colors = ['green'])\n",
    "\n",
    "# plot box\n",
    "plot_box = widgets.HBox([main_fig, deriv_fig])\n",
    "\n",
    "# function entry\n",
    "func_label = widgets.Label(\"Enter function: \")\n",
    "func_entry = widgets.Text(strFunc, continuous_update = False)\n",
    "func_box = widgets.HBox([func_label, func_entry])\n",
    "\n",
    "# domain entry\n",
    "dom_layout = widgets.Layout(width = '75px')\n",
    "dom_label = widgets.Label(\"Enter domain: \")\n",
    "dom_low = widgets.FloatText(value = -3.0, layout = dom_layout)\n",
    "dom_high = widgets.FloatText(value = 3.0, layout = dom_layout)\n",
    "out_layout = widgets.Layout(border=\"blue solid 2px\")\n",
    "out_str = \"The derivative at {} is {}\"\n",
    "output = widgets.Text(value = out_str.format(xpoint, dy_point), layout = out_layout)\n",
    "dom_box = widgets.HBox([dom_label, dom_low, dom_high, output])\n",
    "\n",
    "# callback functions\n",
    "def update_plot(change):\n",
    "    #if change['owner'] == func_entry:\n",
    "    strFunc = func_entry.value\n",
    "    f, df, fstr = set_function(strFunc)\n",
    "    title_label.value = title_format.format(sym.latex(fstr))\n",
    "    low = dom_low.value\n",
    "    high = dom_high.value\n",
    "    point_slider.min = low\n",
    "    point_slider.max = high\n",
    "    x = linspace(dom_low.value, dom_high.value, nPts)\n",
    "    y = f(x)\n",
    "    # fix y-axis limits:\n",
    "    ylimits.min = min(y)\n",
    "    ylimits.max = max(y)\n",
    "    \n",
    "    # update main plot\n",
    "    function_curve.x = x\n",
    "    function_curve.y = y\n",
    "    df_line.x = x\n",
    "    \n",
    "    xpoint = point_slider.value\n",
    "    ypoint = f(xpoint)\n",
    "    m = df(xpoint)\n",
    "    b = ypoint - xpoint * m\n",
    "    df_line.y = m*x + b\n",
    "    point.x = [xpoint]\n",
    "    point.y = [f(xpoint)]\n",
    "    \n",
    "    # update derivative plot\n",
    "    deriv_curve.x = x\n",
    "    deriv_curve.y = df(x)\n",
    "    deriv_point.x = [xpoint]\n",
    "    deriv_point.y = [df(xpoint)]\n",
    "    deriv_value.x = x\n",
    "    deriv_value.y = [df(xpoint)]*nPts\n",
    "    \n",
    "    # update output\n",
    "    output.value = out_str.format(xpoint, df(xpoint))\n",
    "    \n",
    "def update_function(change):\n",
    "    global f, df\n",
    "    strFunc = func_entry.value\n",
    "    f, df, fstr = set_function(strFunc)\n",
    "    title_label.value = title_format.format(sym.latex(fstr))\n",
    "    update_plot(\"called from update_function\")\n",
    "    \n",
    "point_slider.observe(update_plot, names = 'value')\n",
    "func_entry.observe(update_plot, names = 'value')\n",
    "dom_low.observe(update_plot, names = 'value')\n",
    "dom_high.observe(update_plot, names = 'value')\n",
    "\n",
    "widgets.VBox([title_label, plot_box, point_box, func_box, dom_box])"
   ]
  },
  {
   "cell_type": "code",
   "execution_count": 4,
   "metadata": {},
   "outputs": [
    {
     "data": {
      "text/html": [
       "<style>\n",
       "div.input{\n",
       "    display:none;\n",
       "}\n",
       "</style>\n"
      ],
      "text/plain": [
       "<IPython.core.display.HTML object>"
      ]
     },
     "metadata": {},
     "output_type": "display_data"
    }
   ],
   "source": [
    "%%html\n",
    "<style>\n",
    "div.input{\n",
    "    display:none;\n",
    "}\n",
    "</style>"
   ]
  }
 ],
 "metadata": {
  "interpreter": {
   "hash": "97ae724bfa85b9b34df7982b8bb8c7216f435b92902d749e4263f71162bea840"
  },
  "kernelspec": {
   "display_name": "Python 3",
   "language": "python",
   "name": "python3"
  },
  "language_info": {
   "codemirror_mode": {
    "name": "ipython",
    "version": 3
   },
   "file_extension": ".py",
   "mimetype": "text/x-python",
   "name": "python",
   "nbconvert_exporter": "python",
   "pygments_lexer": "ipython3",
   "version": "3.7.4"
  }
 },
 "nbformat": 4,
 "nbformat_minor": 2
}
